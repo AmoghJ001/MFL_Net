{
 "cells": [
  {
   "cell_type": "code",
   "execution_count": 1,
   "metadata": {
    "id": "d_-52QLMs1VV"
   },
   "outputs": [],
   "source": [
    "import os\n",
    "from os import getcwd\n",
    "import numpy as np\n",
    "import pandas as pd\n",
    "import cv2\n",
    "import seaborn as sns\n",
    "from tqdm import tqdm\n",
    "import matplotlib.pyplot as plt\n",
    "import tensorflow as tf\n",
    "from tensorflow import keras\n",
    "import random\n",
    "import glob\n",
    "from pathlib import Path\n",
    "from sklearn.utils import shuffle\n",
    "from sklearn.model_selection import train_test_split\n",
    "from tensorflow.keras import layers\n",
    "from tensorflow.keras import Model\n",
    "from tensorflow.keras.layers import Input, Conv2D, MaxPooling2D, Flatten, Dense, BatchNormalization, Dropout,GlobalAveragePooling2D, concatenate\n",
    "from tensorflow.keras.models import Sequential\n",
    "from tensorflow.keras.optimizers import RMSprop, Adam\n",
    "from tensorflow.keras.preprocessing.image import ImageDataGenerator\n",
    "import skimage.io\n",
    "from keras import backend as K\n"
   ]
  },
  {
   "cell_type": "code",
   "execution_count": 2,
   "metadata": {
    "colab": {
     "base_uri": "https://localhost:8080/"
    },
    "id": "2i__BVHOztOk",
    "outputId": "77ed8929-e8bd-4131-a627-3609a5776e56"
   },
   "outputs": [
    {
     "name": "stdout",
     "output_type": "stream",
     "text": [
      "Test COVID Images:  250\n",
      "Test NON-COVID Images:  246\n"
     ]
    }
   ],
   "source": [
    "data_dir = Path('/content/SARS-CoV-2') # Dataset Location Path\n",
    "test_dir = os.path.join(data_dir, 'Test')\n",
    "test_cov_dir = os.path.join(test_dir, 'COVID') \n",
    "test_noncov_dir = os.path.join(test_dir, 'NON-COVID')\n",
    "\n",
    "test_cov_fnames = os.listdir(test_cov_dir)\n",
    "test_noncov_fnames = os.listdir(test_noncov_dir)\n",
    "\n",
    "print(\"Test COVID Images: \", len(test_cov_fnames))\n",
    "print(\"Test NON-COVID Images: \", len(test_noncov_fnames))\n"
   ]
  },
  {
   "cell_type": "code",
   "execution_count": 3,
   "metadata": {
    "colab": {
     "base_uri": "https://localhost:8080/"
    },
    "id": "NT4skXKI0CZQ",
    "outputId": "059495d8-d298-4d78-d957-7b7b03c5b4ac"
   },
   "outputs": [
    {
     "name": "stdout",
     "output_type": "stream",
     "text": [
      "Found 496 images belonging to 2 classes.\n"
     ]
    }
   ],
   "source": [
    "testGenerator = ImageDataGenerator(rescale = 1./255).flow_from_directory(test_dir, \n",
    "                                                                         batch_size=16,\n",
    "                                                                         class_mode='categorical',\n",
    "                                                                         shuffle=False,\n",
    "                                                                         target_size=(224,224))\n",
    "                                                      "
   ]
  },
  {
   "cell_type": "code",
   "execution_count": 4,
   "metadata": {
    "id": "0qUdTkO2tFgB"
   },
   "outputs": [],
   "source": [
    "def mini_block(filters, x):\n",
    "    conv = tf.keras.layers.Conv2D(filters , kernel_size=(3, 3),padding = \"same\")(x)\n",
    "    bn = tf.keras.layers.BatchNormalization()(conv)\n",
    "    act = tf.keras.layers.ReLU()(bn)\n",
    "    return act\n",
    "\n",
    "def double_mini_block(filters, x):\n",
    "    t = mini_block(filters, x)\n",
    "    t = mini_block(filters, t)\n",
    "    return t\n",
    "\n",
    "def MFL_Block(f,inp):\n",
    "    block1 = mini_block(f,inp)\n",
    "    block2 = double_mini_block(f,inp)\n",
    "    c1 =  concatenate([block1, block2])\n",
    "    conv = tf.keras.layers.Conv2D(f , kernel_size=(1, 1))(c1)\n",
    "    block3 = mini_block(f,conv)\n",
    "    block4 = mini_block(f,inp)\n",
    "    c2 = concatenate([block3, block4])\n",
    "    conv = tf.keras.layers.Conv2D(f, kernel_size=(1, 1))(c2)\n",
    "    return conv\n",
    "\n",
    "def MFL_Net():\n",
    "    inp = tf.keras.layers.Input(shape=(224,224,3))\n",
    "    b1 = mini_block(16,inp)\n",
    "    pool = tf.keras.layers.MaxPooling2D(pool_size=(2, 2))(b1)\n",
    "    p1 = MFL_Block(16,pool)\n",
    "    pool = tf.keras.layers.MaxPooling2D(pool_size=(2, 2))(p1)\n",
    "    p2 = MFL_Block(32,pool)\n",
    "    pool = tf.keras.layers.MaxPooling2D(pool_size=(2, 2))(p2)\n",
    "    p3 = MFL_Block(64,pool)\n",
    "    pool = tf.keras.layers.MaxPooling2D(pool_size=(2, 2))(p3)\n",
    "    p4 = MFL_Block(128,pool)\n",
    "    globavg = tf.keras.layers.GlobalAveragePooling2D()(p4)\n",
    "    drop = tf.keras.layers.Dropout(rate=0.5)(globavg)\n",
    "    out = tf.keras.layers.Dense(2, activation='softmax')(drop)\n",
    "    model = tf.keras.Model(inputs=inp, outputs=out)\n",
    "    model.compile(optimizer = Adam(lr=0.001), \n",
    "              loss = 'categorical_crossentropy', \n",
    "              metrics = ['acc'])\n",
    "    return model\n"
   ]
  },
  {
   "cell_type": "code",
   "execution_count": null,
   "metadata": {
    "id": "f1agqgdpztIy"
   },
   "outputs": [],
   "source": [
    "model = MFL_Net()\n",
    "model.load_weights('SARS-CoV-2_MFL_Net.hdf5')"
   ]
  },
  {
   "cell_type": "code",
   "execution_count": null,
   "metadata": {
    "id": "BO04R1U10LcG"
   },
   "outputs": [],
   "source": [
    "import numpy as np\n",
    "from sklearn.metrics import confusion_matrix,classification_report\n",
    "\n",
    "predictions = model.predict_generator(testGenerator)\n",
    "\n",
    "y_pred = np.argmax(predictions, axis=1)\n",
    "\n",
    "true_classes = testGenerator.classes\n",
    "\n",
    "class_labels = list(testGenerator.class_indices.keys())   \n",
    "\n",
    "print(class_labels)\n",
    "\n",
    "print(confusion_matrix(testGenerator.classes, y_pred))\n",
    "\n",
    "report = classification_report(true_classes, y_pred, target_names=class_labels)\n",
    "print(report)"
   ]
  },
  {
   "cell_type": "code",
   "execution_count": null,
   "metadata": {
    "id": "ePy6krga0juq"
   },
   "outputs": [],
   "source": [
    "from sklearn.metrics import  f1_score,roc_auc_score, accuracy_score\n",
    "f1_score(testGenerator.classes, y_pred)"
   ]
  },
  {
   "cell_type": "code",
   "execution_count": null,
   "metadata": {
    "id": "zVld_ogK0j2f"
   },
   "outputs": [],
   "source": [
    "accuracy_score(testGenerator.classes, y_pred)"
   ]
  },
  {
   "cell_type": "code",
   "execution_count": null,
   "metadata": {
    "id": "WTxvnv180j9v"
   },
   "outputs": [],
   "source": [
    "roc_auc_score(testGenerator.classes, y_pred)"
   ]
  },
  {
   "cell_type": "code",
   "execution_count": null,
   "metadata": {
    "id": "-LlB8Xab0po-"
   },
   "outputs": [],
   "source": [
    "cm = confusion_matrix(testGenerator.classes, y_pred)\n",
    "\n",
    "names = [\"COVID\", \"NON-COVID\"]\n",
    "\n",
    "group_counts = [\"{0:0.0f}\".format(value) for value in\n",
    "                cm.flatten()]\n",
    "\n",
    "labels = [f\"{v1}\" for v1 in group_counts]\n",
    "labels = np.asarray(labels).reshape(2,2)\n",
    "sns.set(font_scale=0.9)\n",
    "sns.heatmap(cm, annot=labels, fmt='', xticklabels= names, yticklabels= names, annot_kws={\"size\": 19}, cmap='Blues')\n",
    "plt.yticks(rotation=45) \n",
    "\n",
    "plt.xlabel(\"Predicted labels\")\n",
    "plt.ylabel(\"True labels\")\n",
    "plt.title('Confusion Matrix ')\n",
    "plt.show()"
   ]
  },
  {
   "cell_type": "code",
   "execution_count": null,
   "metadata": {
    "id": "CEt7c-mu00UG"
   },
   "outputs": [],
   "source": [
    "plt.plot(history.history['acc'])\n",
    "plt.plot(history.history['val_acc'])\n",
    "plt.title('CNN Accuracy')\n",
    "plt.ylabel('Accuracy')\n",
    "plt.xlabel('Epoch')\n",
    "plt.legend(['train', 'val'], loc='best',facecolor=\"white\")\n",
    "plt.grid(b=None)\n",
    "\n",
    "ax = plt.axes()\n",
    "ax.spines['bottom'].set_color('0.5')\n",
    "ax.spines['top'].set_color('0.5')\n",
    "ax.spines['right'].set_color('0.5')\n",
    "ax.spines['left'].set_color('0.5')\n",
    "ax.set_facecolor(\"white\")\n",
    "\n",
    "plt.show()"
   ]
  },
  {
   "cell_type": "code",
   "execution_count": null,
   "metadata": {
    "id": "ofeyTzZv07N5"
   },
   "outputs": [],
   "source": [
    "plt.plot(history.history['loss'])\n",
    "plt.plot(history.history['val_loss'])\n",
    "plt.title('CNN Loss')\n",
    "plt.ylabel('Loss')\n",
    "plt.xlabel('Epoch')\n",
    "plt.legend(['train', 'val'], loc='best',facecolor=\"white\")\n",
    "plt.grid(b=None)\n",
    "ax = plt.axes()\n",
    "ax.spines['bottom'].set_color('0.5')\n",
    "ax.spines['top'].set_color('0.5')\n",
    "ax.spines['right'].set_color('0.5')\n",
    "ax.spines['left'].set_color('0.5')\n",
    "ax.patch.set_edgecolor('black')  \n",
    "ax.set_facecolor(\"white\")\n",
    "\n",
    "plt.show()"
   ]
  }
 ],
 "metadata": {
  "accelerator": "GPU",
  "colab": {
   "collapsed_sections": [],
   "name": "Untitled14.ipynb",
   "provenance": []
  },
  "kernelspec": {
   "display_name": "Python 3",
   "language": "python",
   "name": "python3"
  },
  "language_info": {
   "codemirror_mode": {
    "name": "ipython",
    "version": 3
   },
   "file_extension": ".py",
   "mimetype": "text/x-python",
   "name": "python",
   "nbconvert_exporter": "python",
   "pygments_lexer": "ipython3",
   "version": "3.7.0"
  }
 },
 "nbformat": 4,
 "nbformat_minor": 1
}
